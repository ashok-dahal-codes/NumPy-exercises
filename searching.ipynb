{
 "cells": [
  {
   "cell_type": "code",
   "execution_count": 1,
   "id": "2f6a0767-5070-428f-8bf7-ce0baef1acca",
   "metadata": {},
   "outputs": [],
   "source": [
    "import numpy as np"
   ]
  },
  {
   "cell_type": "code",
   "execution_count": 3,
   "id": "68e49ffe-69b2-4f18-bad3-ad9a0c49270c",
   "metadata": {},
   "outputs": [],
   "source": [
    "arr = np.array([1,3,4,5,5,5,6,6,5])"
   ]
  },
  {
   "cell_type": "code",
   "execution_count": 4,
   "id": "e7b409bf-597e-4495-8a6a-9cf40bd1874d",
   "metadata": {},
   "outputs": [],
   "source": [
    "x = np.where(arr == 5)"
   ]
  },
  {
   "cell_type": "code",
   "execution_count": 5,
   "id": "3f848c4c-9843-470c-85fa-cc0c0601934b",
   "metadata": {},
   "outputs": [
    {
     "name": "stdout",
     "output_type": "stream",
     "text": [
      "(array([3, 4, 5, 8]),)\n"
     ]
    }
   ],
   "source": [
    "print(x)"
   ]
  },
  {
   "cell_type": "code",
   "execution_count": null,
   "id": "9c62f61d-6131-43fb-8da5-15a9960ca839",
   "metadata": {},
   "outputs": [],
   "source": []
  }
 ],
 "metadata": {
  "kernelspec": {
   "display_name": "Python 3 (ipykernel)",
   "language": "python",
   "name": "python3"
  },
  "language_info": {
   "codemirror_mode": {
    "name": "ipython",
    "version": 3
   },
   "file_extension": ".py",
   "mimetype": "text/x-python",
   "name": "python",
   "nbconvert_exporter": "python",
   "pygments_lexer": "ipython3",
   "version": "3.13.5"
  }
 },
 "nbformat": 4,
 "nbformat_minor": 5
}
