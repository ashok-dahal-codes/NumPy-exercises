{
 "cells": [
  {
   "cell_type": "code",
   "execution_count": 1,
   "id": "e9991dfa-b933-4668-8d75-f11203c3ef64",
   "metadata": {},
   "outputs": [],
   "source": [
    "import numpy as np"
   ]
  },
  {
   "cell_type": "code",
   "execution_count": 2,
   "id": "6cfbd122-25d8-4a16-bed0-7a0eaa7242ab",
   "metadata": {},
   "outputs": [],
   "source": [
    "def myadd(x,y):\n",
    "    return x+y"
   ]
  },
  {
   "cell_type": "code",
   "execution_count": 3,
   "id": "2c45158b-d4b7-4b63-8205-2291b274e4b1",
   "metadata": {},
   "outputs": [],
   "source": [
    "myadd = np.frompyfunc(myadd, 2, 1)"
   ]
  },
  {
   "cell_type": "code",
   "execution_count": 6,
   "id": "039dde2d-9928-495c-b857-f0c0eb81cf1d",
   "metadata": {},
   "outputs": [
    {
     "name": "stdout",
     "output_type": "stream",
     "text": [
      "[5 7 9]\n"
     ]
    }
   ],
   "source": [
    "print(myadd([1,2,3],[4,5,6]))"
   ]
  },
  {
   "cell_type": "code",
   "execution_count": null,
   "id": "80f17cd7-5e39-40d8-a34a-648de5f6b47f",
   "metadata": {},
   "outputs": [],
   "source": []
  }
 ],
 "metadata": {
  "kernelspec": {
   "display_name": "Python 3 (ipykernel)",
   "language": "python",
   "name": "python3"
  },
  "language_info": {
   "codemirror_mode": {
    "name": "ipython",
    "version": 3
   },
   "file_extension": ".py",
   "mimetype": "text/x-python",
   "name": "python",
   "nbconvert_exporter": "python",
   "pygments_lexer": "ipython3",
   "version": "3.13.5"
  }
 },
 "nbformat": 4,
 "nbformat_minor": 5
}
