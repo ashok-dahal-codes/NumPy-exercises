{
 "cells": [
  {
   "cell_type": "code",
   "execution_count": 1,
   "id": "59d6b4c2-3fa2-4d42-b7ee-4b1f5ceb6337",
   "metadata": {},
   "outputs": [],
   "source": [
    "import numpy as np"
   ]
  },
  {
   "cell_type": "code",
   "execution_count": 2,
   "id": "d6f8697e-25ed-4efa-b68c-d6fab240082f",
   "metadata": {},
   "outputs": [],
   "source": [
    "arr_1d = np.array([2,3,4,5])"
   ]
  },
  {
   "cell_type": "code",
   "execution_count": 3,
   "id": "bbf15b1f-68ec-4160-a532-6b7c4689d7e9",
   "metadata": {},
   "outputs": [
    {
     "name": "stdout",
     "output_type": "stream",
     "text": [
      "[2 3 4 5]\n"
     ]
    }
   ],
   "source": [
    "print(arr_1d)"
   ]
  },
  {
   "cell_type": "code",
   "execution_count": 10,
   "id": "674335c7-7f59-4dba-a126-1cad447eac9e",
   "metadata": {},
   "outputs": [],
   "source": [
    "arr_2d = np.array([[1,2,3],[3,4,5]])"
   ]
  },
  {
   "cell_type": "code",
   "execution_count": 11,
   "id": "7919ce29-7eca-4835-80dc-690bd8752a3a",
   "metadata": {},
   "outputs": [
    {
     "name": "stdout",
     "output_type": "stream",
     "text": [
      "[[1 2 3]\n",
      " [3 4 5]]\n"
     ]
    }
   ],
   "source": [
    "print(arr_2d)"
   ]
  },
  {
   "cell_type": "markdown",
   "id": "813d7680-68fb-45cf-b2db-6daab5d8fca5",
   "metadata": {},
   "source": [
    "###list vs numpy array"
   ]
  },
  {
   "cell_type": "code",
   "execution_count": null,
   "id": "6ea37498-d32d-4caf-8b52-cc16566e201b",
   "metadata": {},
   "outputs": [],
   "source": []
  },
  {
   "cell_type": "code",
   "execution_count": null,
   "id": "597191a7-c2f4-41d8-bbc1-5e6ba6884b21",
   "metadata": {},
   "outputs": [],
   "source": []
  }
 ],
 "metadata": {
  "kernelspec": {
   "display_name": "Python 3 (ipykernel)",
   "language": "python",
   "name": "python3"
  },
  "language_info": {
   "codemirror_mode": {
    "name": "ipython",
    "version": 3
   },
   "file_extension": ".py",
   "mimetype": "text/x-python",
   "name": "python",
   "nbconvert_exporter": "python",
   "pygments_lexer": "ipython3",
   "version": "3.13.5"
  }
 },
 "nbformat": 4,
 "nbformat_minor": 5
}
