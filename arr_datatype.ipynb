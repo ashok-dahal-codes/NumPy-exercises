{
 "cells": [
  {
   "cell_type": "code",
   "execution_count": 1,
   "id": "9e294fb0-59c4-44e4-b5b3-5cc4c17e4e6f",
   "metadata": {},
   "outputs": [],
   "source": [
    "import numpy as np"
   ]
  },
  {
   "cell_type": "code",
   "execution_count": 11,
   "id": "81d78464-5e58-4708-849a-7eb099ecec9f",
   "metadata": {},
   "outputs": [],
   "source": [
    "arr = np.array([1,2,3,4,5,5,6,],dtype = \"S\")"
   ]
  },
  {
   "cell_type": "code",
   "execution_count": 13,
   "id": "c732aef1-5aa0-43d0-815d-c1e5f1ee947a",
   "metadata": {},
   "outputs": [
    {
     "name": "stdout",
     "output_type": "stream",
     "text": [
      "[b'1' b'2' b'3' b'4' b'5' b'5' b'6']\n"
     ]
    }
   ],
   "source": [
    "print(arr)"
   ]
  },
  {
   "cell_type": "code",
   "execution_count": 12,
   "id": "3392fbc4-0f46-43ff-8048-494271de53a2",
   "metadata": {},
   "outputs": [
    {
     "name": "stdout",
     "output_type": "stream",
     "text": [
      "|S1\n"
     ]
    }
   ],
   "source": [
    "print(arr.dtype)"
   ]
  },
  {
   "cell_type": "markdown",
   "id": "f182557d-fc5e-4eca-b3a5-acb690255820",
   "metadata": {},
   "source": [
    "conversion of the data type"
   ]
  },
  {
   "cell_type": "code",
   "execution_count": 15,
   "id": "b1a38f91-c10e-48a6-8e45-2adb15c33497",
   "metadata": {},
   "outputs": [],
   "source": [
    "arr_1 = np.array([1,0,4])"
   ]
  },
  {
   "cell_type": "code",
   "execution_count": 16,
   "id": "e1c4462f-5874-4eaf-b397-eee7748a86d3",
   "metadata": {},
   "outputs": [],
   "source": [
    "newarr = arr_1.astype(bool)"
   ]
  },
  {
   "cell_type": "code",
   "execution_count": 18,
   "id": "eda6051f-7383-40ee-bd82-9204f9229af7",
   "metadata": {},
   "outputs": [
    {
     "name": "stdout",
     "output_type": "stream",
     "text": [
      "[ True False  True]\n"
     ]
    }
   ],
   "source": [
    "print(newarr)"
   ]
  },
  {
   "cell_type": "code",
   "execution_count": null,
   "id": "c07a186d-81cd-4efa-a468-f37074a37a9c",
   "metadata": {},
   "outputs": [],
   "source": []
  }
 ],
 "metadata": {
  "kernelspec": {
   "display_name": "Python 3 (ipykernel)",
   "language": "python",
   "name": "python3"
  },
  "language_info": {
   "codemirror_mode": {
    "name": "ipython",
    "version": 3
   },
   "file_extension": ".py",
   "mimetype": "text/x-python",
   "name": "python",
   "nbconvert_exporter": "python",
   "pygments_lexer": "ipython3",
   "version": "3.13.5"
  }
 },
 "nbformat": 4,
 "nbformat_minor": 5
}
