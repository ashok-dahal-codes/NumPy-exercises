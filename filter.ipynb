{
 "cells": [
  {
   "cell_type": "code",
   "execution_count": 1,
   "id": "4dce82d9-e0aa-4e42-a517-0c3672ccb239",
   "metadata": {},
   "outputs": [],
   "source": [
    "import numpy as np"
   ]
  },
  {
   "cell_type": "code",
   "execution_count": 2,
   "id": "9de2663c-1ba0-4bcf-ac10-fa33017602f7",
   "metadata": {},
   "outputs": [],
   "source": [
    "arr = np.array([1,2,3,4,5])"
   ]
  },
  {
   "cell_type": "code",
   "execution_count": 3,
   "id": "014a4556-4175-45c3-b878-41e6f6b67bce",
   "metadata": {},
   "outputs": [],
   "source": [
    "x = np.array([True, False, True , True, False])"
   ]
  },
  {
   "cell_type": "code",
   "execution_count": 4,
   "id": "009ec0a1-7c96-4c49-9dd7-e30ed41bca0e",
   "metadata": {},
   "outputs": [],
   "source": [
    "newarr = arr[x]"
   ]
  },
  {
   "cell_type": "code",
   "execution_count": 5,
   "id": "49c09742-32c5-4115-9e6e-838641ecbf54",
   "metadata": {},
   "outputs": [
    {
     "name": "stdout",
     "output_type": "stream",
     "text": [
      "[1 3 4]\n"
     ]
    }
   ],
   "source": [
    "print(newarr)"
   ]
  },
  {
   "cell_type": "code",
   "execution_count": null,
   "id": "d6214ae1-7d9f-4279-8d55-45eeec29f6e4",
   "metadata": {},
   "outputs": [],
   "source": []
  }
 ],
 "metadata": {
  "kernelspec": {
   "display_name": "Python 3 (ipykernel)",
   "language": "python",
   "name": "python3"
  },
  "language_info": {
   "codemirror_mode": {
    "name": "ipython",
    "version": 3
   },
   "file_extension": ".py",
   "mimetype": "text/x-python",
   "name": "python",
   "nbconvert_exporter": "python",
   "pygments_lexer": "ipython3",
   "version": "3.13.5"
  }
 },
 "nbformat": 4,
 "nbformat_minor": 5
}
