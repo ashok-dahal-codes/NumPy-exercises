{
 "cells": [
  {
   "cell_type": "markdown",
   "id": "ef165582-4e42-49d6-bdae-faa8615f0ea8",
   "metadata": {},
   "source": [
    "slicing in array\n"
   ]
  },
  {
   "cell_type": "code",
   "execution_count": 1,
   "id": "306542ea-f963-4ca6-b459-e6b2c7d88f42",
   "metadata": {},
   "outputs": [],
   "source": [
    "import numpy as np"
   ]
  },
  {
   "cell_type": "markdown",
   "id": "0ecf70a2-ecac-4e60-86ca-9f07021583ab",
   "metadata": {},
   "source": [
    "1d array slicing\n"
   ]
  },
  {
   "cell_type": "code",
   "execution_count": 2,
   "id": "2016590d-0891-44ba-a563-2e6927fa2d55",
   "metadata": {},
   "outputs": [],
   "source": [
    "arr1 = np.array([2,3,33,12,45,5,6])"
   ]
  },
  {
   "cell_type": "code",
   "execution_count": 3,
   "id": "819ded4b-e56d-4349-844f-81b6a02fabba",
   "metadata": {},
   "outputs": [
    {
     "name": "stdout",
     "output_type": "stream",
     "text": [
      "[33 12]\n"
     ]
    }
   ],
   "source": [
    "print(arr1[2:4])"
   ]
  },
  {
   "cell_type": "markdown",
   "id": "5af4e012-783e-4ae9-aa02-4bad274d6d15",
   "metadata": {},
   "source": [
    "2d array slicing"
   ]
  },
  {
   "cell_type": "code",
   "execution_count": 5,
   "id": "460deb03-3487-42b5-880f-17fb43dcfeb1",
   "metadata": {},
   "outputs": [],
   "source": [
    "arr2 = np.array([[1,3,4],[2,3,4]])"
   ]
  },
  {
   "cell_type": "code",
   "execution_count": 11,
   "id": "4ba712e4-3746-479e-80df-3f460f966bb4",
   "metadata": {},
   "outputs": [
    {
     "name": "stdout",
     "output_type": "stream",
     "text": [
      "[3 4]\n"
     ]
    }
   ],
   "source": [
    "print(arr2[0,1:])"
   ]
  },
  {
   "cell_type": "code",
   "execution_count": null,
   "id": "b9bded53-eff8-417d-a7e5-69b1a3dba64c",
   "metadata": {},
   "outputs": [],
   "source": []
  }
 ],
 "metadata": {
  "kernelspec": {
   "display_name": "Python 3 (ipykernel)",
   "language": "python",
   "name": "python3"
  },
  "language_info": {
   "codemirror_mode": {
    "name": "ipython",
    "version": 3
   },
   "file_extension": ".py",
   "mimetype": "text/x-python",
   "name": "python",
   "nbconvert_exporter": "python",
   "pygments_lexer": "ipython3",
   "version": "3.13.5"
  }
 },
 "nbformat": 4,
 "nbformat_minor": 5
}
