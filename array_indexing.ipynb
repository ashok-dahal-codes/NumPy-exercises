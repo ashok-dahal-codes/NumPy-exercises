{
 "cells": [
  {
   "cell_type": "markdown",
   "id": "22cc7b91-c21b-4bdc-8bf2-f74610894d17",
   "metadata": {},
   "source": [
    "indexing in array\n"
   ]
  },
  {
   "cell_type": "code",
   "execution_count": 1,
   "id": "1f0e63eb-7293-4b95-939f-7353c892afdd",
   "metadata": {},
   "outputs": [],
   "source": [
    "import numpy as np"
   ]
  },
  {
   "cell_type": "markdown",
   "id": "a2e66d00-0a86-4441-abb8-1e0bb8d987d7",
   "metadata": {},
   "source": [
    "accessing 1d array elements"
   ]
  },
  {
   "cell_type": "code",
   "execution_count": 2,
   "id": "dc2c055d-4a61-4510-bb35-15aed8c70bf9",
   "metadata": {},
   "outputs": [],
   "source": [
    "arr1 = np.array([1,2,3,44,42,2])"
   ]
  },
  {
   "cell_type": "code",
   "execution_count": 3,
   "id": "e775a65a-e5cb-4cb6-8778-b81599485187",
   "metadata": {},
   "outputs": [
    {
     "name": "stdout",
     "output_type": "stream",
     "text": [
      "1\n"
     ]
    }
   ],
   "source": [
    "print(arr1[0])"
   ]
  },
  {
   "cell_type": "markdown",
   "id": "04fdb0f4-e37b-4ed9-9d1d-ad60033a09ce",
   "metadata": {},
   "source": [
    "accessing 2d array elements"
   ]
  },
  {
   "cell_type": "code",
   "execution_count": 4,
   "id": "9fdd2096-7bd9-495a-90f7-650ecbf38a8d",
   "metadata": {},
   "outputs": [],
   "source": [
    "arr2 = np.array([[1,2,3,4,3,3,],[2,4,3,2,21,2]])"
   ]
  },
  {
   "cell_type": "code",
   "execution_count": 5,
   "id": "36738efa-d55b-423a-809a-5dbdaf327d58",
   "metadata": {},
   "outputs": [
    {
     "name": "stdout",
     "output_type": "stream",
     "text": [
      "2\n"
     ]
    }
   ],
   "source": [
    "print(arr2[1,3])# i think the ouput is from 2nd row fourth column which is 2"
   ]
  },
  {
   "cell_type": "markdown",
   "id": "78658782-7bdb-458b-a289-5c3d94b83ae2",
   "metadata": {},
   "source": [
    "accessing the 3d array elemts"
   ]
  },
  {
   "cell_type": "code",
   "execution_count": 6,
   "id": "c8d0f19c-c9ff-4bcb-ae4d-327f2c3618f3",
   "metadata": {},
   "outputs": [],
   "source": [
    "arr3 = np.array([[[1,2,3],[3,4,5]],[[3,2,1],[4,5,6]]])\n"
   ]
  },
  {
   "cell_type": "code",
   "execution_count": 7,
   "id": "19358db3-df4f-4c3b-874d-201ee7513db0",
   "metadata": {},
   "outputs": [
    {
     "name": "stdout",
     "output_type": "stream",
     "text": [
      "5\n"
     ]
    }
   ],
   "source": [
    "print(arr3[0,1,2])# 1st 2d matrix 2nd row 3rd column that is 5"
   ]
  },
  {
   "cell_type": "code",
   "execution_count": null,
   "id": "6f36396d-ec81-4216-9431-cf6f9643deed",
   "metadata": {},
   "outputs": [],
   "source": []
  }
 ],
 "metadata": {
  "kernelspec": {
   "display_name": "Python 3 (ipykernel)",
   "language": "python",
   "name": "python3"
  },
  "language_info": {
   "codemirror_mode": {
    "name": "ipython",
    "version": 3
   },
   "file_extension": ".py",
   "mimetype": "text/x-python",
   "name": "python",
   "nbconvert_exporter": "python",
   "pygments_lexer": "ipython3",
   "version": "3.13.5"
  }
 },
 "nbformat": 4,
 "nbformat_minor": 5
}
