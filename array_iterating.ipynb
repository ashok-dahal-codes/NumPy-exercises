{
 "cells": [
  {
   "cell_type": "code",
   "execution_count": 1,
   "id": "d47f1afc-5a2c-43ff-b910-a1caf4545056",
   "metadata": {},
   "outputs": [],
   "source": [
    "import numpy as np"
   ]
  },
  {
   "cell_type": "code",
   "execution_count": 3,
   "id": "0c3ace0f-fe3d-4ae4-bb88-f0d1c77e2036",
   "metadata": {},
   "outputs": [],
   "source": [
    "arr = np.array([1,34,3,5,6,7,2])"
   ]
  },
  {
   "cell_type": "code",
   "execution_count": 6,
   "id": "77e2fec2-c3db-4dda-a165-76505c0db9a8",
   "metadata": {},
   "outputs": [
    {
     "name": "stdout",
     "output_type": "stream",
     "text": [
      "1\n",
      "34\n",
      "3\n",
      "5\n",
      "6\n",
      "7\n",
      "2\n"
     ]
    }
   ],
   "source": [
    "for i in arr:\n",
    "    print(i)"
   ]
  },
  {
   "cell_type": "code",
   "execution_count": null,
   "id": "78505275-c99b-4560-ae16-f705b4e3598b",
   "metadata": {},
   "outputs": [],
   "source": []
  }
 ],
 "metadata": {
  "kernelspec": {
   "display_name": "Python 3 (ipykernel)",
   "language": "python",
   "name": "python3"
  },
  "language_info": {
   "codemirror_mode": {
    "name": "ipython",
    "version": 3
   },
   "file_extension": ".py",
   "mimetype": "text/x-python",
   "name": "python",
   "nbconvert_exporter": "python",
   "pygments_lexer": "ipython3",
   "version": "3.13.5"
  }
 },
 "nbformat": 4,
 "nbformat_minor": 5
}
