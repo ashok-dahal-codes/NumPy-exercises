{
 "cells": [
  {
   "cell_type": "code",
   "execution_count": 1,
   "id": "320ab4dc-4923-44fd-9ded-8533366a1370",
   "metadata": {},
   "outputs": [],
   "source": [
    "import numpy as np"
   ]
  },
  {
   "cell_type": "code",
   "execution_count": 2,
   "id": "8e0281e4-e464-4747-bfb7-2ca97c31172e",
   "metadata": {},
   "outputs": [],
   "source": [
    "arr = np.array([1,2,3])"
   ]
  },
  {
   "cell_type": "code",
   "execution_count": 3,
   "id": "fda2da29-4542-4cde-ac39-8469c00a2aac",
   "metadata": {},
   "outputs": [],
   "source": [
    "arr1 = np.array([4,5,6])"
   ]
  },
  {
   "cell_type": "code",
   "execution_count": 9,
   "id": "ff607808-dd2a-41d7-b693-84011a5b8123",
   "metadata": {},
   "outputs": [],
   "source": [
    "final_array = np.concatenate((arr,arr1))"
   ]
  },
  {
   "cell_type": "code",
   "execution_count": 10,
   "id": "74094ef5-9f35-4d17-93d9-5d4130ab418b",
   "metadata": {},
   "outputs": [
    {
     "name": "stdout",
     "output_type": "stream",
     "text": [
      "[1 2 3 4 5 6]\n"
     ]
    }
   ],
   "source": [
    "print(final_array)"
   ]
  },
  {
   "cell_type": "code",
   "execution_count": null,
   "id": "17e372e4-49cd-41f8-875c-17cbb3fa64e3",
   "metadata": {},
   "outputs": [],
   "source": []
  }
 ],
 "metadata": {
  "kernelspec": {
   "display_name": "Python 3 (ipykernel)",
   "language": "python",
   "name": "python3"
  },
  "language_info": {
   "codemirror_mode": {
    "name": "ipython",
    "version": 3
   },
   "file_extension": ".py",
   "mimetype": "text/x-python",
   "name": "python",
   "nbconvert_exporter": "python",
   "pygments_lexer": "ipython3",
   "version": "3.13.5"
  }
 },
 "nbformat": 4,
 "nbformat_minor": 5
}
