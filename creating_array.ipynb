{
 "cells": [
  {
   "cell_type": "markdown",
   "id": "c7e449d5-e220-48f1-b5aa-5b9426b5e07e",
   "metadata": {},
   "source": [
    "creating array with numpy"
   ]
  },
  {
   "cell_type": "code",
   "execution_count": 1,
   "id": "ef9d8a98-96b6-4624-892a-f925d284ccf0",
   "metadata": {},
   "outputs": [],
   "source": [
    "import numpy as np"
   ]
  },
  {
   "cell_type": "code",
   "execution_count": 4,
   "id": "b42f5c7e-0e18-4752-ab4f-7e74d1cfd10b",
   "metadata": {},
   "outputs": [],
   "source": [
    "arr = np.array([1,2,3])\n"
   ]
  },
  {
   "cell_type": "code",
   "execution_count": 5,
   "id": "6a4561a0-3b6d-4e9b-adb7-844bef3d44b0",
   "metadata": {},
   "outputs": [
    {
     "name": "stdout",
     "output_type": "stream",
     "text": [
      "[1 2 3]\n"
     ]
    }
   ],
   "source": [
    "print(arr)"
   ]
  },
  {
   "cell_type": "code",
   "execution_count": 6,
   "id": "1cd9143c-61ef-484f-9c3c-37df9e897abe",
   "metadata": {},
   "outputs": [
    {
     "name": "stdout",
     "output_type": "stream",
     "text": [
      "<class 'numpy.ndarray'>\n"
     ]
    }
   ],
   "source": [
    "print(type(arr))\n"
   ]
  },
  {
   "cell_type": "code",
   "execution_count": 7,
   "id": "6559b67b-8840-4fcf-ab42-b6885c5e3223",
   "metadata": {},
   "outputs": [],
   "source": [
    "arr_0d = np.array(34)"
   ]
  },
  {
   "cell_type": "code",
   "execution_count": 8,
   "id": "e6638b55-3c8b-4ae4-a3a3-cde3551333a4",
   "metadata": {},
   "outputs": [
    {
     "name": "stdout",
     "output_type": "stream",
     "text": [
      "34\n"
     ]
    }
   ],
   "source": [
    "print(arr_0d)"
   ]
  },
  {
   "cell_type": "code",
   "execution_count": 14,
   "id": "a9effdc1-7f51-4c73-a2ae-06e72fb8fea9",
   "metadata": {},
   "outputs": [],
   "source": [
    "arr_2d = np.array([[2,3,4],[4,5,6]])"
   ]
  },
  {
   "cell_type": "code",
   "execution_count": 15,
   "id": "59eeefde-da39-4d15-aafc-705a356fc3b2",
   "metadata": {},
   "outputs": [
    {
     "name": "stdout",
     "output_type": "stream",
     "text": [
      "[[2 3 4]\n",
      " [4 5 6]]\n"
     ]
    }
   ],
   "source": [
    "print(arr_2d)"
   ]
  },
  {
   "cell_type": "code",
   "execution_count": 16,
   "id": "74bb253f-28d7-4ee7-813d-c16c16c48176",
   "metadata": {},
   "outputs": [],
   "source": [
    "arr_3d = np.array([[[1,2,2],[2,3,4]],[[1,2,4],[3,4,4]]])"
   ]
  },
  {
   "cell_type": "code",
   "execution_count": 17,
   "id": "c0b1d400-424c-43f8-9509-a06be357c906",
   "metadata": {},
   "outputs": [
    {
     "name": "stdout",
     "output_type": "stream",
     "text": [
      "[[[1 2 2]\n",
      "  [2 3 4]]\n",
      "\n",
      " [[1 2 4]\n",
      "  [3 4 4]]]\n"
     ]
    }
   ],
   "source": [
    "print(arr_3d)"
   ]
  },
  {
   "cell_type": "code",
   "execution_count": null,
   "id": "dda31a77-2fa7-42db-b37a-c375b310bf16",
   "metadata": {},
   "outputs": [],
   "source": []
  }
 ],
 "metadata": {
  "kernelspec": {
   "display_name": "Python 3 (ipykernel)",
   "language": "python",
   "name": "python3"
  },
  "language_info": {
   "codemirror_mode": {
    "name": "ipython",
    "version": 3
   },
   "file_extension": ".py",
   "mimetype": "text/x-python",
   "name": "python",
   "nbconvert_exporter": "python",
   "pygments_lexer": "ipython3",
   "version": "3.13.5"
  }
 },
 "nbformat": 4,
 "nbformat_minor": 5
}
